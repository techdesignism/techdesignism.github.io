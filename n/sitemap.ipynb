{
 "cells": [
  {
   "cell_type": "code",
   "execution_count": 1,
   "id": "ec008e83",
   "metadata": {},
   "outputs": [],
   "source": [
    "import requests\n",
    "from bs4 import BeautifulSoup\n",
    "\n",
    "r = requests.get('https://techdesignism.com/sitemap')"
   ]
  },
  {
   "cell_type": "code",
   "execution_count": 2,
   "id": "acf60a1c",
   "metadata": {},
   "outputs": [],
   "source": [
    "for x in r.text.split('\\n'):\n",
    "    if '?n=' in x:\n",
    "        id = x.split('?n=')[1]\n",
    "        rx = requests.get('https://techdesignism.com/?n='+id)\n",
    "        soup = BeautifulSoup(rx.text, \"lxml\")\n",
    "        title = (soup.title.text+' | Techdesignism')\n",
    "        meta = soup.find_all('meta')\n",
    "        for y in meta:\n",
    "            if('property' in y.attrs):\n",
    "                if(y.attrs['property'] == 'og:description'):\n",
    "                    description = (y.attrs['content'])\n",
    "                if(y.attrs['property'] == 'og:image'):\n",
    "                    image = (y.attrs['content'])\n",
    "        outhtml = (\n",
    "f\"\"\"\n",
    "<html>\n",
    "<head>\n",
    "<title>{title}</title>\n",
    "\n",
    "<meta property=\"og:image\" content=\"{image}\" />\n",
    "<meta property=\"og:image:width\" content=\"1200\" />\n",
    "<meta property=\"og:image:height\" content=\"630\" />\n",
    "\n",
    "</head>\n",
    "<body>\n",
    "<script>\n",
    "window.location.href = \"{x}\";\n",
    "</script>\n",
    "{description}\n",
    "</body>\n",
    "</html>\n",
    "\"\"\")\n",
    "        with open(str(id)+'.html', 'w') as f:\n",
    "            f.write(outhtml)"
   ]
  },
  {
   "cell_type": "code",
   "execution_count": 3,
   "id": "52c8bdc1",
   "metadata": {},
   "outputs": [],
   "source": [
    "sitemaptxt = ''\n",
    "for x in r.text.split('\\n'):\n",
    "    if '?n=' in x:\n",
    "        id = x.split('?n=')[1]\n",
    "        sitemaptxt += (f\"https://techdesignism.github.io/n/{id}.html\\n\")\n",
    "\n"
   ]
  },
  {
   "cell_type": "code",
   "execution_count": 4,
   "id": "2a38ef3b",
   "metadata": {},
   "outputs": [],
   "source": [
    "with open('sitemap.txt', 'w') as f:\n",
    "    f.write(sitemaptxt)"
   ]
  },
  {
   "cell_type": "code",
   "execution_count": null,
   "id": "154afc60",
   "metadata": {},
   "outputs": [],
   "source": []
  }
 ],
 "metadata": {
  "kernelspec": {
   "display_name": "Python 3 (ipykernel)",
   "language": "python",
   "name": "python3"
  },
  "language_info": {
   "codemirror_mode": {
    "name": "ipython",
    "version": 3
   },
   "file_extension": ".py",
   "mimetype": "text/x-python",
   "name": "python",
   "nbconvert_exporter": "python",
   "pygments_lexer": "ipython3",
   "version": "3.9.12"
  }
 },
 "nbformat": 4,
 "nbformat_minor": 5
}
