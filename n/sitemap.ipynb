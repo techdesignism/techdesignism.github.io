{
 "cells": [
  {
   "cell_type": "code",
   "execution_count": 14,
   "id": "3587414a",
   "metadata": {},
   "outputs": [],
   "source": [
    "import requests\n",
    "from bs4 import BeautifulSoup\n",
    "\n",
    "r = requests.get('https://techdesignism.com/sitemap')"
   ]
  },
  {
   "cell_type": "code",
   "execution_count": 22,
   "id": "d7ce2350",
   "metadata": {},
   "outputs": [],
   "source": [
    "for x in r.text.split('\\n'):\n",
    "    if '?n=' in x:\n",
    "        id = x.split('?n=')[1]\n",
    "        rx = requests.get('https://techdesignism.com/?n='+id)\n",
    "        soup = BeautifulSoup(rx.text, \"lxml\")\n",
    "        title = (soup.title.text+' | Techdesignism')\n",
    "        meta = soup.find_all('meta')\n",
    "        for y in meta:\n",
    "            if('property' in y.attrs):\n",
    "                if(y.attrs['property'] == 'og:description'):\n",
    "                    description = (y.attrs['content'])\n",
    "                if(y.attrs['property'] == 'og:image'):\n",
    "                    image = (y.attrs['content'])\n",
    "        outhtml = (\n",
    "f\"\"\"\n",
    "<script>\n",
    "window.location.href = \"{x}\";\n",
    "</script>\n",
    "<html>\n",
    "<head>\n",
    "<title>{title}</title>\n",
    "\n",
    "<meta property=\"og:image\" content=\"{image}\" />\n",
    "<meta property=\"og:image:width\" content=\"1200\" />\n",
    "<meta property=\"og:image:height\" content=\"630\" />\n",
    "\n",
    "</head>\n",
    "<body>\n",
    "{description}\n",
    "</body>\n",
    "</html>\n",
    "\"\"\")\n",
    "        with open(str(id)+'.html', 'w') as f:\n",
    "            f.write(outhtml)"
   ]
  },
  {
   "cell_type": "code",
   "execution_count": null,
   "id": "2ecab228",
   "metadata": {},
   "outputs": [],
   "source": [
    "\n"
   ]
  },
  {
   "cell_type": "code",
   "execution_count": null,
   "id": "9b1d8a0f",
   "metadata": {},
   "outputs": [],
   "source": []
  }
 ],
 "metadata": {
  "kernelspec": {
   "display_name": "Python 3 (ipykernel)",
   "language": "python",
   "name": "python3"
  },
  "language_info": {
   "codemirror_mode": {
    "name": "ipython",
    "version": 3
   },
   "file_extension": ".py",
   "mimetype": "text/x-python",
   "name": "python",
   "nbconvert_exporter": "python",
   "pygments_lexer": "ipython3",
   "version": "3.9.12"
  }
 },
 "nbformat": 4,
 "nbformat_minor": 5
}
