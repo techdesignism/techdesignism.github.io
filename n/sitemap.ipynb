{
 "cells": [
  {
   "cell_type": "code",
   "execution_count": 18,
   "id": "d0280199",
   "metadata": {},
   "outputs": [],
   "source": [
    "import requests\n",
    "from bs4 import BeautifulSoup\n",
    "\n",
    "r = requests.get('https://techdesignism.com/sitemap')"
   ]
  },
  {
   "cell_type": "code",
   "execution_count": 26,
   "id": "ec8ce7b5",
   "metadata": {},
   "outputs": [
    {
     "name": "stdout",
     "output_type": "stream",
     "text": [
      "Title:  [Flutter] loop & list [ ] , map, where, reduce, every, any, for in | Techdesignism\n",
      "==============================\n",
      "Title:  (Mac) Install PHP, composer, laravel | Techdesignism\n",
      "==============================\n",
      "Title:  [Flutter] Basic \"Provider\" Tutorial (State management) | Techdesignism\n",
      "==============================\n",
      "Title:  [Flutter] How to wrap with widget | Techdesignism\n",
      "==============================\n",
      "Title:  [Inkscape, GIMP] Grayscale, Black and White | Techdesignism\n",
      "==============================\n",
      "Title:  Flutter of the day | Techdesignism\n",
      "==============================\n",
      "Title:  Flutter Tutorial for Beginners Day 1 - What is Flutter? | Techdesignism\n",
      "==============================\n",
      "Title:  Flutter Tutorial for Beginners Day 2 - Create a new project | Techdesignism\n",
      "==============================\n",
      "Title:  Flutter Tutorial for Beginners | Techdesignism\n",
      "==============================\n",
      "Title:  Flutter Tutorial for Beginners Day 3 - Dart Basics | Techdesignism\n",
      "==============================\n",
      "Title:  Flutter Tutorial for Beginners Day 4 - Widget & State | Techdesignism\n",
      "==============================\n",
      "Title:  Best OS for Docker to Use - Alpine | Techdesignism\n",
      "==============================\n",
      "Title:  Docker of the day | Techdesignism\n",
      "==============================\n",
      "Title:  (Windows) Install PHP, composer, laravel | Techdesignism\n",
      "==============================\n",
      "Title:  Laravel Setup & Install | Techdesignism\n",
      "==============================\n",
      "Title:  Flutter Tutorial for Beginners Day 5 - Scaffold & AppBar Widgets | Techdesignism\n",
      "==============================\n"
     ]
    }
   ],
   "source": [
    "for x in r.text.split('\\n'):\n",
    "    if '?n=' in x:\n",
    "        id = x.split('?n=')[1]\n",
    "        rx = requests.get('https://techdesignism.com/?n='+id)\n",
    "        soup = BeautifulSoup(rx.text, \"lxml\")\n",
    "        title = soup.title.text+' | Techdesignism'\n",
    "        print('Title: ',title)\n",
    "        meta = soup.find_all('meta')\n",
    "        for y in meta:\n",
    "            if('property' in y.attrs):\n",
    "                if(y.attrs['property'] == 'og:description'):\n",
    "                    description = ('Description: ',y.attrs['content'])\n",
    "                if(y.attrs['property'] == 'og:image'):\n",
    "                    image = ('Image: ',y.attrs['content'])\n",
    "            #print(y)\n",
    "        print('='*30)"
   ]
  },
  {
   "cell_type": "code",
   "execution_count": null,
   "id": "bdecd65d",
   "metadata": {},
   "outputs": [],
   "source": []
  }
 ],
 "metadata": {
  "kernelspec": {
   "display_name": "Python 3 (ipykernel)",
   "language": "python",
   "name": "python3"
  },
  "language_info": {
   "codemirror_mode": {
    "name": "ipython",
    "version": 3
   },
   "file_extension": ".py",
   "mimetype": "text/x-python",
   "name": "python",
   "nbconvert_exporter": "python",
   "pygments_lexer": "ipython3",
   "version": "3.9.12"
  }
 },
 "nbformat": 4,
 "nbformat_minor": 5
}
